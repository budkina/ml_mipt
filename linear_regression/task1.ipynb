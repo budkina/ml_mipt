{
 "cells": [
  {
   "cell_type": "code",
   "execution_count": 1,
   "metadata": {
    "_cell_guid": "b1076dfc-b9ad-4769-8c92-a6c4dae69d19",
    "_uuid": "8f2839f25d086af736a60e9eeb907d3b93b6e0e5"
   },
   "outputs": [],
   "source": [
    "# This Python 3 environment comes with many helpful analytics libraries installed\n",
    "# It is defined by the kaggle/python Docker image: https://github.com/kaggle/docker-python\n",
    "# For example, here's several helpful packages to load\n",
    "\n",
    "import numpy as np # linear algebra\n",
    "import pandas as pd # data processing, CSV file I/O (e.g. pd.read_csv)\n",
    "\n",
    "# Input data files are available in the read-only \"../input/\" directory\n",
    "# For example, running this (by clicking run or pressing Shift+Enter) will list all files under the input directory\n",
    "\n",
    "import os\n",
    "for dirname, _, filenames in os.walk('/kaggle/input'):\n",
    "    for filename in filenames:\n",
    "        print(os.path.join(dirname, filename))\n",
    "\n",
    "# You can write up to 5GB to the current directory (/kaggle/working/) that gets preserved as output when you create a version using \"Save & Run All\" \n",
    "# You can also write temporary files to /kaggle/temp/, but they won't be saved outside of the current session"
   ]
  },
  {
   "cell_type": "code",
   "execution_count": 2,
   "metadata": {},
   "outputs": [],
   "source": [
    "from sklearn import model_selection, linear_model, metrics\n",
    "from matplotlib import pyplot as plt\n",
    "import seaborn as sns\n",
    "from sklearn.preprocessing import StandardScaler"
   ]
  },
  {
   "cell_type": "code",
   "execution_count": null,
   "metadata": {},
   "outputs": [],
   "source": [
    "train_csv=pd.read_csv('/kaggle/input/house-prices-advanced-regression-techniques/train.csv')\n",
    "train_labels=train_csv['SalePrice']"
   ]
  },
  {
   "cell_type": "markdown",
   "metadata": {},
   "source": [
    "# Find features with many NaNs values"
   ]
  },
  {
   "cell_type": "code",
   "execution_count": null,
   "metadata": {},
   "outputs": [],
   "source": [
    "nan_count=train_csv.isnull().sum(axis = 0)\n",
    "\n",
    "#remove columns without NaNs\n",
    "nan_count=nan_count[nan_count > 0]\n",
    "nan_count.sort_values()"
   ]
  },
  {
   "cell_type": "markdown",
   "metadata": {},
   "source": [
    "I won't use 'Fence', 'Alley', 'MiscFeature', 'PoolQC', 'FireplaceQu' features"
   ]
  },
  {
   "cell_type": "markdown",
   "metadata": {},
   "source": [
    "# Numeric features analysis"
   ]
  },
  {
   "cell_type": "code",
   "execution_count": null,
   "metadata": {},
   "outputs": [],
   "source": [
    "numeric_columns=['LotFrontage', 'LotArea', 'MasVnrArea', 'BsmtFinSF1', 'BsmtFinSF2', 'BsmtUnfSF', 'TotalBsmtSF', '1stFlrSF', '2ndFlrSF', 'LowQualFinSF', 'GrLivArea', 'GarageArea', 'WoodDeckSF', 'OpenPorchSF', 'EnclosedPorch', '3SsnPorch', 'ScreenPorch', 'PoolArea', 'MiscVal','BsmtFullBath', 'BsmtHalfBath', 'FullBath', 'HalfBath', 'TotRmsAbvGrd', 'Fireplaces', 'GarageCars']\n",
    "numeric_data=train_csv[numeric_columns]\n",
    "numeric_data=numeric_data.fillna(0)"
   ]
  },
  {
   "cell_type": "markdown",
   "metadata": {},
   "source": [
    "## Plots of SalePrice on numeric feature values"
   ]
  },
  {
   "cell_type": "code",
   "execution_count": null,
   "metadata": {},
   "outputs": [],
   "source": [
    "fig, axs = plt.subplots (6,5)\n",
    "fig.set_size_inches(25,25)\n",
    "\n",
    "fig.suptitle('numeric features')\n",
    "for i,feature in enumerate(numeric_data.columns):\n",
    "    axs[i//5, i%5].scatter(numeric_data[feature], train_csv['SalePrice'], color='blue')\n",
    "    axs[i//5, i%5].set_title(feature)\n",
    " "
   ]
  },
  {
   "cell_type": "code",
   "execution_count": null,
   "metadata": {},
   "outputs": [],
   "source": [
    "corr_labels=numeric_data.corrwith(train_labels)\n",
    "corr_labels.sort_values()"
   ]
  },
  {
   "cell_type": "markdown",
   "metadata": {},
   "source": [
    "### The best correlated features"
   ]
  },
  {
   "cell_type": "code",
   "execution_count": null,
   "metadata": {},
   "outputs": [],
   "source": [
    "numeric_columns=['LotArea', 'OpenPorchSF', '2ndFlrSF', 'WoodDeckSF', 'BsmtFinSF1', 'Fireplaces', 'MasVnrArea', 'TotRmsAbvGrd', 'FullBath', '1stFlrSF', 'TotalBsmtSF', 'GarageArea', 'GarageCars', 'GrLivArea']\n",
    "numeric_data=numeric_data[numeric_columns]"
   ]
  },
  {
   "cell_type": "markdown",
   "metadata": {},
   "source": [
    "## Searching for collinear features"
   ]
  },
  {
   "cell_type": "code",
   "execution_count": null,
   "metadata": {},
   "outputs": [],
   "source": [
    "corr_matrix=numeric_data.corr(method ='pearson')\n",
    "corr_matrix"
   ]
  },
  {
   "cell_type": "code",
   "execution_count": null,
   "metadata": {},
   "outputs": [],
   "source": [
    "for label_c, content in corr_matrix.items():\n",
    "    for label_r, score in content.items():\n",
    "        if score>0.6 and label_r>label_c:\n",
    "            print(label_r, label_c, score)"
   ]
  },
  {
   "cell_type": "code",
   "execution_count": null,
   "metadata": {},
   "outputs": [],
   "source": [
    "numeric_data.drop(['1stFlrSF','2ndFlrSF', 'FullBath', 'GarageCars','TotRmsAbvGrd'], axis = 1, inplace = True)"
   ]
  },
  {
   "cell_type": "code",
   "execution_count": null,
   "metadata": {},
   "outputs": [],
   "source": [
    "numeric_data.skew()"
   ]
  },
  {
   "cell_type": "code",
   "execution_count": null,
   "metadata": {},
   "outputs": [],
   "source": [
    "numeric_data.kurt()"
   ]
  },
  {
   "cell_type": "markdown",
   "metadata": {},
   "source": [
    "# Rank features analysis"
   ]
  },
  {
   "cell_type": "code",
   "execution_count": null,
   "metadata": {},
   "outputs": [],
   "source": [
    "rank_columns = ['OverallQual', 'OverallCond','ExterQual', 'ExterCond', 'BsmtQual', 'BsmtCond', 'HeatingQC', 'KitchenQual', 'GarageQual', 'GarageCond','BsmtFinType1', 'BsmtFinType2','Functional']\n",
    "rank_data=train_csv[rank_columns]"
   ]
  },
  {
   "cell_type": "raw",
   "metadata": {},
   "source": [
    "replace these strings with numeric scores:\n",
    "\n",
    "Ex    Excellent\n",
    "Gd    Good\n",
    "TA    Average/Typical\n",
    "Fa    Fair\n",
    "Po    Poor\n",
    "NA    No Basement\n",
    "\n",
    "GLQ\tGood Living Quarters\n",
    "ALQ\tAverage Living Quarters\n",
    "BLQ\tBelow Average Living Quarters\t\n",
    "Rec\tAverage Rec Room\n",
    "LwQ\tLow Quality\n",
    "Unf\tUnfinshed\n",
    "NA\tNo Basement\n",
    "\n",
    "Typ\tTypical Functionality\n",
    "Min1\tMinor Deductions 1\n",
    "Min2\tMinor Deductions 2\n",
    "Mod\tModerate Deductions\n",
    "Maj1\tMajor Deductions 1\n",
    "Maj2\tMajor Deductions 2\n",
    "Sev\tSeverely Damaged\n",
    "Sal\tSalvage only"
   ]
  },
  {
   "cell_type": "code",
   "execution_count": null,
   "metadata": {},
   "outputs": [],
   "source": [
    "rank_data=rank_data.replace(['Ex', 'Gd', 'TA', 'Fa', 'Po'],[5, 4, 3, 2, 1])\n",
    "rank_data=rank_data.replace(['GLQ', 'ALQ', 'BLQ', 'Rec', 'LwQ', 'Unf'],[6, 5, 4, 3, 2, 1])\n",
    "rank_data=rank_data.replace(['Typ', 'Min1', 'Min2', 'Mod', 'Maj1', 'Maj2','Sev','Sal'],[8, 7, 6, 5, 4, 3, 2, 1])"
   ]
  },
  {
   "cell_type": "code",
   "execution_count": null,
   "metadata": {},
   "outputs": [],
   "source": [
    "rank_data=rank_data.fillna(0)"
   ]
  },
  {
   "cell_type": "code",
   "execution_count": null,
   "metadata": {},
   "outputs": [],
   "source": [
    "fig, axs = plt.subplots (5,3)\n",
    "fig.set_size_inches(25,25)\n",
    "\n",
    "fig.suptitle('rank features')\n",
    "for i,feature in enumerate(rank_data.columns):\n",
    "    axs[i//3, i%3].scatter(rank_data[feature], train_csv['SalePrice'], color='blue')\n",
    "    axs[i//3, i%3].set_title(feature)"
   ]
  },
  {
   "cell_type": "code",
   "execution_count": null,
   "metadata": {},
   "outputs": [],
   "source": [
    "corr_labels=rank_data.corrwith(train_labels)\n",
    "corr_labels.sort_values()"
   ]
  },
  {
   "cell_type": "markdown",
   "metadata": {},
   "source": [
    "## The best correlated features:"
   ]
  },
  {
   "cell_type": "code",
   "execution_count": null,
   "metadata": {},
   "outputs": [],
   "source": [
    "rank_columns=['HeatingQC', 'BsmtQual', 'KitchenQual', 'ExterQual', 'OverallQual']\n",
    "rank_data=rank_data[rank_columns]"
   ]
  },
  {
   "cell_type": "code",
   "execution_count": null,
   "metadata": {},
   "outputs": [],
   "source": [
    "corr_matrix=rank_data.corr(method ='pearson')\n",
    "corr_matrix"
   ]
  },
  {
   "cell_type": "code",
   "execution_count": null,
   "metadata": {},
   "outputs": [],
   "source": [
    "for label_c, content in corr_matrix.items():\n",
    "    for label_r, score in content.items():\n",
    "        if score>0.7 and label_r>label_c:\n",
    "            print(label_r, label_c, score)"
   ]
  },
  {
   "cell_type": "code",
   "execution_count": null,
   "metadata": {},
   "outputs": [],
   "source": [
    "rank_data.drop(['ExterQual'], axis = 1, inplace = True)"
   ]
  },
  {
   "cell_type": "markdown",
   "metadata": {},
   "source": [
    "# Categorical features analysis"
   ]
  },
  {
   "cell_type": "code",
   "execution_count": null,
   "metadata": {},
   "outputs": [],
   "source": [
    "categorical_columns = ['MSSubClass', 'MSZoning', 'Street', 'LotShape', 'LandContour', 'Utilities', 'LotConfig', 'LandSlope', 'Neighborhood', 'Condition1', 'Condition2', 'BldgType', 'HouseStyle', 'RoofStyle', 'RoofMatl', 'Exterior1st', 'Exterior2nd', 'MasVnrType', 'Foundation', 'Heating', 'CentralAir', 'Electrical', 'GarageType', 'GarageFinish', 'PavedDrive', 'SaleType', 'SaleCondition','BsmtExposure']\n",
    "categorical_data=train_csv[categorical_columns]\n",
    "categorical_data=categorical_data.fillna('None')"
   ]
  },
  {
   "cell_type": "markdown",
   "metadata": {},
   "source": [
    "## Display count plots to find skewed features"
   ]
  },
  {
   "cell_type": "code",
   "execution_count": null,
   "metadata": {},
   "outputs": [],
   "source": [
    "fig = plt.figure(figsize = (20,30))\n",
    "\n",
    "for i,feature in enumerate(categorical_data.columns):\n",
    "    \n",
    "    ax1 = fig.add_subplot(15,3,i+1)\n",
    "    sns.countplot(x=feature, data=categorical_data, ax=ax1)\n"
   ]
  },
  {
   "cell_type": "markdown",
   "metadata": {},
   "source": [
    "## Remove skewed variables"
   ]
  },
  {
   "cell_type": "code",
   "execution_count": null,
   "metadata": {},
   "outputs": [],
   "source": [
    "categorical_columns=['MSSubClass', 'Exterior2nd', 'LotConfig', 'Neighborhood', 'MasVnrType', 'LandSlope', 'LotShape', 'Foundation', 'GarageType', 'GarageFinish', 'Exterior1st', 'HouseStyle']\n",
    "categorical_data=categorical_data[categorical_columns]"
   ]
  },
  {
   "cell_type": "code",
   "execution_count": null,
   "metadata": {},
   "outputs": [],
   "source": [
    "categorical_data_copy=categorical_data.copy()\n",
    "categorical_data_copy['SalePrice']=train_csv['SalePrice']\n",
    "\n",
    "fig = plt.figure(figsize = (20,30))\n",
    "\n",
    "for i,feature in enumerate(categorical_data.columns):\n",
    "    \n",
    "    ax1 = fig.add_subplot(9,3,i+1)\n",
    "    sns.violinplot(x=feature, y=\"SalePrice\", split=True, data=categorical_data_copy, ax=ax1)"
   ]
  },
  {
   "cell_type": "markdown",
   "metadata": {},
   "source": [
    "# Trying out different sets of features"
   ]
  },
  {
   "cell_type": "code",
   "execution_count": null,
   "metadata": {},
   "outputs": [],
   "source": [
    "attempt=5\n",
    "\n",
    "# choose some good features for each class\n",
    "if attempt==1:\n",
    "    numeric_columns=['BsmtFinSF1', 'Fireplaces', 'TotalBsmtSF', 'GarageArea', 'GrLivArea']\n",
    "    rank_columns=['HeatingQC', 'BsmtQual', 'KitchenQual', 'OverallQual']\n",
    "    categorical_columns=[ 'MSSubClass','Neighborhood','HouseStyle','Exterior1st','Exterior2nd','GarageType','GarageFinish']\n",
    "    \n",
    "# add more numeric features\n",
    "if attempt==2:\n",
    "    numeric_columns=['LotArea', 'OpenPorchSF', 'WoodDeckSF', 'BsmtFinSF1', 'Fireplaces', 'MasVnrArea', 'TotalBsmtSF', 'GarageArea', 'GrLivArea']\n",
    "    rank_columns=['HeatingQC', 'BsmtQual', 'KitchenQual', 'OverallQual']\n",
    "    categorical_columns=[ 'MSSubClass','Neighborhood','HouseStyle','Exterior1st','Exterior2nd','GarageType','GarageFinish']\n",
    "        \n",
    "# add more categorical features\n",
    "if attempt==3:\n",
    "    numeric_columns=['LotArea', 'OpenPorchSF', 'WoodDeckSF', 'BsmtFinSF1', 'Fireplaces', 'MasVnrArea', 'TotalBsmtSF', 'GarageArea', 'GrLivArea']\n",
    "    rank_columns=['HeatingQC', 'BsmtQual', 'KitchenQual', 'OverallQual']\n",
    "    categorical_columns=['MSSubClass', 'Exterior2nd', 'LotConfig', 'Neighborhood', 'MasVnrType', 'LandSlope', 'LotShape', 'Foundation', 'GarageType', 'GarageFinish', 'Exterior1st', 'HouseStyle']\n",
    "\n",
    "# remove OpenPorchSF and Fireplaces from numeric features\n",
    "if attempt==4:    \n",
    "    numeric_columns=['LotArea', 'WoodDeckSF', 'BsmtFinSF1', 'MasVnrArea', 'TotalBsmtSF', 'GarageArea', 'GrLivArea']\n",
    "    rank_columns=['HeatingQC', 'BsmtQual', 'KitchenQual', 'OverallQual']\n",
    "    categorical_columns=['MSSubClass', 'Exterior2nd', 'LotConfig', 'Neighborhood', 'MasVnrType', 'LandSlope', 'LotShape', 'Foundation', 'GarageType', 'GarageFinish', 'Exterior1st', 'HouseStyle']\n",
    "    \n",
    "# use rank features as categorical\n",
    "if attempt==5:\n",
    "    numeric_columns=['LotArea', 'WoodDeckSF', 'BsmtFinSF1', 'MasVnrArea', 'TotalBsmtSF', 'GarageArea', 'GrLivArea']\n",
    "    rank_columns=[]\n",
    "    categorical_columns=['MSSubClass', 'Exterior2nd', 'LotConfig', 'Neighborhood', 'MasVnrType', 'LandSlope', 'LotShape', 'Foundation', 'GarageType', 'GarageFinish', 'Exterior1st', 'HouseStyle','HeatingQC', 'BsmtQual', 'KitchenQual', 'OverallQual']"
   ]
  },
  {
   "cell_type": "code",
   "execution_count": null,
   "metadata": {},
   "outputs": [],
   "source": [
    "len(numeric_columns)+len(rank_columns)+len(categorical_columns)"
   ]
  },
  {
   "cell_type": "markdown",
   "metadata": {},
   "source": [
    "# Remove outliers from train set"
   ]
  },
  {
   "cell_type": "code",
   "execution_count": null,
   "metadata": {},
   "outputs": [],
   "source": [
    "def remove_outliers(data):\n",
    "    if 'BsmtFinSF1' in data.columns:\n",
    "        data=data[(data['BsmtFinSF1'] < 3000) ]\n",
    "        \n",
    "    if 'TotalBsmtSF' in data.columns:\n",
    "        data=data[(data['TotalBsmtSF'] < 3500) ]\n",
    "        \n",
    "    if 'GarageArea' in data.columns:\n",
    "        data=data[(data['GarageArea'] < 1300) ]\n",
    "        \n",
    "    if 'GrLivArea' in data.columns:\n",
    "        data=data[(data['GrLivArea'] < 5000) ]\n",
    "        \n",
    "    if 'LotArea' in data.columns:\n",
    "        data=data[(data['LotArea'] < 100000) ]\n",
    "        \n",
    "    if 'WoodDeckSF' in data.columns:\n",
    "        data=data[(data['WoodDeckSF'] < 750) ]\n",
    "        \n",
    "    if 'OpenPorchSF' in data.columns:\n",
    "        data=data[(data['OpenPorchSF'] < 500) ]"
   ]
  },
  {
   "cell_type": "code",
   "execution_count": null,
   "metadata": {},
   "outputs": [],
   "source": [
    "remove_outliers(train_csv)"
   ]
  },
  {
   "cell_type": "markdown",
   "metadata": {},
   "source": [
    "# Dictionary for all possible categorical values"
   ]
  },
  {
   "cell_type": "code",
   "execution_count": null,
   "metadata": {},
   "outputs": [],
   "source": [
    "cat_values={'MSSubClass' : {'1SN', '1SO', '1SWF', '112SU', '112SF', '2SN', '2SO', '212S', 'SM', 'SF', 'D', '1SP', '12SP', '2SP', 'PM', '2FC'}, #replace numbers with strings\n",
    "           'Exterior2nd': {'AsbShng', 'AsphShn', 'Brk Cmn', 'BrkFace', 'CBlock', 'CmentBd', 'HdBoard', 'ImStucc', 'MetalSd', 'None', 'Plywood', 'PreCast', 'Stone', 'Stucco', 'VinylSd', 'Wd Sdng', 'Wd Shng','Other'},\n",
    "           'LotConfig' : {'Inside','Corner','CulDSac','FR2','FR3'},\n",
    "            'Neighborhood' : {'Blmngtn', 'Blueste', 'BrDale', 'BrkSide', 'ClearCr', 'CollgCr', 'Crawfor', 'Edwards', 'Gilbert', 'IDOTRR', 'MeadowV', 'Mitchel', 'NAmes', 'NoRidge', 'NPkVill', 'NridgHt', 'NWAmes', 'OldTown', 'SWISU', 'Sawyer', 'SawyerW', 'Somerst', 'StoneBr', 'Timber', 'Veenker'},\n",
    "            'MasVnrType' : {'BrkCmn', 'BrkFace', 'CBlock', 'None', 'Stone'},\n",
    "            'LandSlope' : {'Gtl', 'Mod', 'Sev'},\n",
    "            'LotShape' : {'Reg', 'IR1', 'IR2', 'IR3'},\n",
    "            'Foundation' : {'BrkTil', 'CBlock', 'PConc', 'Slab', 'Stone', 'Wood'},\n",
    "            'GarageType' : {'2Types', 'Attchd', 'Basment', 'BuiltIn', 'CarPort', 'Detchd', 'None'},\n",
    "            'GarageFinish' : {'Fin', 'RFn', 'Unf', 'None'},\n",
    "            'Exterior1st' : {'AsbShng', 'AsphShn', 'BrkComm', 'BrkFace', 'CBlock', 'CemntBd', 'HdBoard', 'ImStucc', 'MetalSd', 'None', 'Plywood', 'PreCast', 'Stone', 'Stucco', 'VinylSd', 'Wd Sdng', 'WdShing', 'Other'},\n",
    "            'HouseStyle' : {'1Story', '1.5Fin', '1.5Unf', '2Story', '2.5Fin', '2.5Unf', 'SFoyer', 'SLvl'},\n",
    "            'HeatingQC': {'Ex', 'Gd', 'TA', 'Fa', 'Po', 'None'},\n",
    "            'BsmtQual': {'Ex', 'Gd', 'TA', 'Fa', 'Po', 'None'},\n",
    "            'KitchenQual': {'Ex', 'Gd', 'TA', 'Fa', 'Po', 'None'},\n",
    "            'OverallQual': {'Ex', 'Gd', 'TA', 'Fa', 'Po', 'None'}\n",
    "           }"
   ]
  },
  {
   "cell_type": "code",
   "execution_count": null,
   "metadata": {},
   "outputs": [],
   "source": [
    "categorical_dummy_columns=[]\n",
    "for c in cat_values:\n",
    "    for v in cat_values[c]:\n",
    "        categorical_dummy_columns.append(c+'_'+v)"
   ]
  },
  {
   "cell_type": "code",
   "execution_count": null,
   "metadata": {},
   "outputs": [],
   "source": [
    "def process_dataset(data):\n",
    "    \n",
    "    numeric_data=data[numeric_columns]\n",
    "    rank_data=data[rank_columns]\n",
    "    categorical_data=data[categorical_columns]\n",
    "    \n",
    "    #process numeric features\n",
    "    numeric_data=numeric_data.fillna(0)\n",
    "    \n",
    "    #process rank features\n",
    "    rank_data=rank_data.fillna(0)\n",
    "    rank_data.replace(['Ex', 'Gd', 'TA', 'Fa', 'Po'],[5, 4, 3, 2, 1], inplace=True)\n",
    "\n",
    "    #normalize all numeric and rank data\n",
    "    numeric_n_rank_data=np.hstack((numeric_data,rank_data))\n",
    "    scaler=StandardScaler()\n",
    "    scaler.fit(numeric_n_rank_data,train_labels)\n",
    "    numeric_data_scaled=scaler.transform(numeric_n_rank_data)  \n",
    "    \n",
    "    #process categorical features\n",
    "    categorical_data=categorical_data.fillna('None')\n",
    "    \n",
    "    if 'MSSubClass' in categorical_data.columns:\n",
    "        categorical_data.MSSubClass.replace([20,  30,  40,  45,  50,  60,  70,  75,  80,  85,  90, 120, 150, 160, 180, 190],['1SN', '1SO', '1SWF', '112SU', '112SF', '2SN', '2SO', '212S', 'SM', 'SF', 'D', '1SP', '12SP', '2SP', 'PM', '2FC'],inplace=True)\n",
    "\n",
    "    categorical_data = pd.get_dummies(categorical_data)\n",
    "    \n",
    "    #add absent value columns\n",
    "    absent_columns=set(categorical_dummy_columns)-set(categorical_data.columns)\n",
    "\n",
    "    for c in absent_columns:\n",
    "        categorical_data[c]=0\n",
    "    \n",
    "    categorical_data = categorical_data.reindex(sorted(categorical_data.columns), axis=1)\n",
    "\n",
    "    X_data=np.hstack((numeric_data_scaled,categorical_data))\n",
    "    return X_data"
   ]
  },
  {
   "cell_type": "markdown",
   "metadata": {},
   "source": [
    "# Fit SGDRegressor and predict test results"
   ]
  },
  {
   "cell_type": "code",
   "execution_count": null,
   "metadata": {},
   "outputs": [],
   "source": [
    "def linear_regression():\n",
    "    Y_train=train_csv['SalePrice']\n",
    "    Y_train = np.log1p(Y_train)\n",
    "    X_train=process_dataset(train_csv)\n",
    "    regressor=linear_model.SGDRegressor()\n",
    "    \n",
    "    # train SGDRegressor\n",
    "    regressor.fit(X_train,Y_train)\n",
    "    \n",
    "    #perform cross-validation\n",
    "    scorer=metrics.make_scorer(metrics.mean_squared_error)\n",
    "    linear_scoring = model_selection.cross_val_score(regressor, X_train, Y_train, scoring=scorer, cv = 5)\n",
    "    print('mean: {}, std: {}'.format(linear_scoring.mean(), linear_scoring.std()))\n",
    "    \n",
    "    #predict results for train set\n",
    "    X_test=process_dataset(test_csv)\n",
    "    ridge_predictions = regressor.predict(X_test)\n",
    "    ridge_predictions_restored=np.expm1(ridge_predictions)\n",
    "    \n",
    "    return ridge_predictions_restored"
   ]
  },
  {
   "cell_type": "code",
   "execution_count": null,
   "metadata": {},
   "outputs": [],
   "source": [
    "test_csv=pd.read_csv('/kaggle/input/house-prices-advanced-regression-techniques/test.csv')"
   ]
  },
  {
   "cell_type": "code",
   "execution_count": null,
   "metadata": {},
   "outputs": [],
   "source": [
    "ridge_predictions_restored=linear_regression()"
   ]
  },
  {
   "cell_type": "code",
   "execution_count": null,
   "metadata": {},
   "outputs": [],
   "source": [
    "my_submission = pd.DataFrame({'Id': test_csv.Id, 'SalePrice': ridge_predictions_restored})\n",
    "my_submission.to_csv('submission.csv', index=False)"
   ]
  },
  {
   "cell_type": "markdown",
   "metadata": {},
   "source": [
    "# Plot of metrics on local cross-validation and leaderboard"
   ]
  },
  {
   "cell_type": "code",
   "execution_count": 3,
   "metadata": {},
   "outputs": [
    {
     "data": {
      "text/plain": [
       "<matplotlib.collections.PathCollection at 0x28b421b8408>"
      ]
     },
     "execution_count": 3,
     "metadata": {},
     "output_type": "execute_result"
    },
    {
     "data": {
      "image/png": "[encoded data removed]",
      "text/plain": [
       "<Figure size 432x288 with 1 Axes>"
      ]
     },
     "metadata": {
      "needs_background": "light"
     },
     "output_type": "display_data"
    }
   ],
   "source": [
    "x_mean=np.sqrt([0.06767481960672328, 0.06943615429341633, 0.07407572398351811, 0.07586403466423826, 0.0785751690613064])\n",
    "y_score=[0.25985, 0.25749, 0.25210, 0.25106, 0.25032]\n",
    "plt.scatter(x_mean, y_score, color='blue')"
   ]
  },
  {
   "cell_type": "markdown",
   "metadata": {},
   "source": [
    "# The arithmetic mean of several regressions"
   ]
  },
  {
   "cell_type": "code",
   "execution_count": null,
   "metadata": {},
   "outputs": [],
   "source": [
    "rank_columns=[]\n",
    "\n",
    "numeric_columns=['LotArea', 'WoodDeckSF', 'GrLivArea']\n",
    "categorical_columns=['MSSubClass', 'Exterior2nd', 'LotConfig', 'Neighborhood', 'OverallQual']\n",
    "predictions1 = linear_regression()\n",
    "\n",
    "numeric_columns=['BsmtFinSF1', 'GarageArea']\n",
    "categorical_columns=['MasVnrType', 'LandSlope', 'LotShape', 'Foundation', 'KitchenQual']\n",
    "predictions2 = linear_regression()\n",
    "\n",
    "numeric_columns=['MasVnrArea', 'TotalBsmtSF']\n",
    "categorical_columns=[ 'GarageType', 'GarageFinish', 'Exterior1st', 'HouseStyle', 'HeatingQC', 'BsmtQual']\n",
    "predictions3 = linear_regression()\n",
    "\n",
    "predictions = np.mean([predictions1, predictions2, predictions3],axis=0)\n",
    "my_submission = pd.DataFrame({'Id': test_csv.Id, 'SalePrice': predictions})\n",
    "my_submission.to_csv('submission_mean.csv', index=False)\n",
    "\n",
    "#public score = 0.19810"
   ]
  }
 ],
 "metadata": {
  "kernelspec": {
   "display_name": "Python 3",
   "language": "python",
   "name": "python3"
  },
  "language_info": {
   "codemirror_mode": {
    "name": "ipython",
    "version": 3
   },
   "file_extension": ".py",
   "mimetype": "text/x-python",
   "name": "python",
   "nbconvert_exporter": "python",
   "pygments_lexer": "ipython3",
   "version": "3.7.6"
  }
 },
 "nbformat": 4,
 "nbformat_minor": 4
}
