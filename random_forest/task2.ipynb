{
 "cells": [
  {
   "cell_type": "code",
   "execution_count": 1,
   "metadata": {
    "_cell_guid": "b1076dfc-b9ad-4769-8c92-a6c4dae69d19",
    "_uuid": "8f2839f25d086af736a60e9eeb907d3b93b6e0e5",
    "execution": {
     "iopub.execute_input": "2020-10-14T17:52:05.593044Z",
     "iopub.status.busy": "2020-10-14T17:52:05.592067Z",
     "iopub.status.idle": "2020-10-14T17:52:05.597487Z",
     "shell.execute_reply": "2020-10-14T17:52:05.596660Z"
    },
    "papermill": {
     "duration": 0.051386,
     "end_time": "2020-10-14T17:52:05.597667",
     "exception": false,
     "start_time": "2020-10-14T17:52:05.546281",
     "status": "completed"
    },
    "tags": []
   },
   "outputs": [
    {
     "name": "stdout",
     "output_type": "stream",
     "text": [
      "/kaggle/input/mlbio1/train.csv\n",
      "/kaggle/input/mlbio1/test.csv\n",
      "/kaggle/input/mlbio1/sample_submission.csv\n"
     ]
    }
   ],
   "source": [
    "# This Python 3 environment comes with many helpful analytics libraries installed\n",
    "# It is defined by the kaggle/python Docker image: https://github.com/kaggle/docker-python\n",
    "# For example, here's several helpful packages to load\n",
    "\n",
    "import numpy as np # linear algebra\n",
    "import pandas as pd # data processing, CSV file I/O (e.g. pd.read_csv)\n",
    "\n",
    "# Input data files are available in the read-only \"../input/\" directory\n",
    "# For example, running this (by clicking run or pressing Shift+Enter) will list all files under the input directory\n",
    "\n",
    "import os\n",
    "for dirname, _, filenames in os.walk('/kaggle/input'):\n",
    "    for filename in filenames:\n",
    "        print(os.path.join(dirname, filename))\n",
    "\n",
    "# You can write up to 5GB to the current directory (/kaggle/working/) that gets preserved as output when you create a version using \"Save & Run All\" \n",
    "# You can also write temporary files to /kaggle/temp/, but they won't be saved outside of the current session"
   ]
  },
  {
   "cell_type": "code",
   "execution_count": 2,
   "metadata": {
    "execution": {
     "iopub.execute_input": "2020-10-14T17:52:05.678193Z",
     "iopub.status.busy": "2020-10-14T17:52:05.677201Z",
     "iopub.status.idle": "2020-10-14T17:52:07.132522Z",
     "shell.execute_reply": "2020-10-14T17:52:07.131697Z"
    },
    "papermill": {
     "duration": 1.497468,
     "end_time": "2020-10-14T17:52:07.132652",
     "exception": false,
     "start_time": "2020-10-14T17:52:05.635184",
     "status": "completed"
    },
    "tags": []
   },
   "outputs": [],
   "source": [
    "from matplotlib import pyplot as plt\n",
    "from sklearn import linear_model, tree, ensemble\n",
    "from sklearn.preprocessing import StandardScaler\n",
    "from sklearn.model_selection import GridSearchCV\n",
    "from sklearn.metrics import roc_auc_score\n",
    "from sklearn.model_selection import train_test_split"
   ]
  },
  {
   "cell_type": "code",
   "execution_count": 3,
   "metadata": {
    "_cell_guid": "79c7e3d0-c299-4dcb-8224-4455121ee9b0",
    "_uuid": "d629ff2d2480ee46fbb7e2d37f6b5fab8052498a",
    "execution": {
     "iopub.execute_input": "2020-10-14T17:52:07.212025Z",
     "iopub.status.busy": "2020-10-14T17:52:07.211190Z",
     "iopub.status.idle": "2020-10-14T17:52:07.337153Z",
     "shell.execute_reply": "2020-10-14T17:52:07.336432Z"
    },
    "papermill": {
     "duration": 0.168159,
     "end_time": "2020-10-14T17:52:07.337282",
     "exception": false,
     "start_time": "2020-10-14T17:52:07.169123",
     "status": "completed"
    },
    "tags": []
   },
   "outputs": [],
   "source": [
    "train=pd.read_csv('../input/mlbio1/train.csv')\n",
    "test=pd.read_csv('../input/mlbio1/test.csv')\n",
    "sample = pd.read_csv('../input/mlbio1/sample_submission.csv')"
   ]
  },
  {
   "cell_type": "markdown",
   "metadata": {
    "papermill": {
     "duration": 0.035491,
     "end_time": "2020-10-14T17:52:07.409276",
     "exception": false,
     "start_time": "2020-10-14T17:52:07.373785",
     "status": "completed"
    },
    "tags": []
   },
   "source": [
    "# Process categorical features"
   ]
  },
  {
   "cell_type": "code",
   "execution_count": 4,
   "metadata": {
    "execution": {
     "iopub.execute_input": "2020-10-14T17:52:07.490555Z",
     "iopub.status.busy": "2020-10-14T17:52:07.489760Z",
     "iopub.status.idle": "2020-10-14T17:52:07.494026Z",
     "shell.execute_reply": "2020-10-14T17:52:07.493203Z"
    },
    "papermill": {
     "duration": 0.047629,
     "end_time": "2020-10-14T17:52:07.494165",
     "exception": false,
     "start_time": "2020-10-14T17:52:07.446536",
     "status": "completed"
    },
    "tags": []
   },
   "outputs": [],
   "source": [
    "# smoothed target encoding\n",
    "def smoothed_target_encoding(data, feature_name, target_name, C=10):\n",
    "    global_y_mean = data[target_name].mean()\n",
    "    K = data.groupby(feature_name).size()\n",
    "    y_mean = data.groupby(feature_name)[target_name].mean()\n",
    "    output = (y_mean*K + global_y_mean*C)/(K+C)\n",
    "    return dict(output)"
   ]
  },
  {
   "cell_type": "code",
   "execution_count": 5,
   "metadata": {
    "execution": {
     "iopub.execute_input": "2020-10-14T17:52:07.586159Z",
     "iopub.status.busy": "2020-10-14T17:52:07.585006Z",
     "iopub.status.idle": "2020-10-14T17:52:07.754943Z",
     "shell.execute_reply": "2020-10-14T17:52:07.754229Z"
    },
    "papermill": {
     "duration": 0.224308,
     "end_time": "2020-10-14T17:52:07.755075",
     "exception": false,
     "start_time": "2020-10-14T17:52:07.530767",
     "status": "completed"
    },
    "tags": []
   },
   "outputs": [],
   "source": [
    "cat_features = ['gender', 'ever_married', 'work_type', 'Residence_type', 'smoking_status']\n",
    "for f in cat_features:\n",
    "    train[f] = train[f].fillna('nan')\n",
    "    test[f] = test[f].fillna('nan')\n",
    "    replace_dict = smoothed_target_encoding(train,f,'stroke')\n",
    "    train[f] = train[f].map(replace_dict)\n",
    "    test[f] = test[f].map(replace_dict)"
   ]
  },
  {
   "cell_type": "markdown",
   "metadata": {
    "papermill": {
     "duration": 0.035722,
     "end_time": "2020-10-14T17:52:07.828242",
     "exception": false,
     "start_time": "2020-10-14T17:52:07.792520",
     "status": "completed"
    },
    "tags": []
   },
   "source": [
    "# Process numeric features"
   ]
  },
  {
   "cell_type": "code",
   "execution_count": 6,
   "metadata": {
    "execution": {
     "iopub.execute_input": "2020-10-14T17:52:07.911659Z",
     "iopub.status.busy": "2020-10-14T17:52:07.910364Z",
     "iopub.status.idle": "2020-10-14T17:52:07.920422Z",
     "shell.execute_reply": "2020-10-14T17:52:07.919578Z"
    },
    "papermill": {
     "duration": 0.055467,
     "end_time": "2020-10-14T17:52:07.920553",
     "exception": false,
     "start_time": "2020-10-14T17:52:07.865086",
     "status": "completed"
    },
    "tags": []
   },
   "outputs": [],
   "source": [
    "num_features = ['age', 'hypertension', 'heart_disease', 'avg_glucose_level', 'bmi']\n",
    "for f in num_features:\n",
    "    mean_train = train[f].mean()\n",
    "    train[f] = train[f].fillna(mean_train)\n",
    "    mean_test = test[f].mean()\n",
    "    test[f] = test[f].fillna(mean_test)"
   ]
  },
  {
   "cell_type": "code",
   "execution_count": 7,
   "metadata": {
    "execution": {
     "iopub.execute_input": "2020-10-14T17:52:08.003318Z",
     "iopub.status.busy": "2020-10-14T17:52:08.002443Z",
     "iopub.status.idle": "2020-10-14T17:52:08.014327Z",
     "shell.execute_reply": "2020-10-14T17:52:08.014955Z"
    },
    "papermill": {
     "duration": 0.058063,
     "end_time": "2020-10-14T17:52:08.015140",
     "exception": false,
     "start_time": "2020-10-14T17:52:07.957077",
     "status": "completed"
    },
    "tags": []
   },
   "outputs": [],
   "source": [
    "#select best features\n",
    "features_list=['smoking_status', 'age','hypertension', 'heart_disease','avg_glucose_level','bmi']\n",
    "target_name='stroke'\n",
    "X_train=train[features_list]\n",
    "Y_train=train[target_name]\n",
    "X_test=test[features_list]"
   ]
  },
  {
   "cell_type": "markdown",
   "metadata": {
    "papermill": {
     "duration": 0.037631,
     "end_time": "2020-10-14T17:52:08.090700",
     "exception": false,
     "start_time": "2020-10-14T17:52:08.053069",
     "status": "completed"
    },
    "tags": []
   },
   "source": [
    "# Check if classes are balanced"
   ]
  },
  {
   "cell_type": "code",
   "execution_count": 8,
   "metadata": {
    "execution": {
     "iopub.execute_input": "2020-10-14T17:52:08.171299Z",
     "iopub.status.busy": "2020-10-14T17:52:08.170470Z",
     "iopub.status.idle": "2020-10-14T17:52:08.176598Z",
     "shell.execute_reply": "2020-10-14T17:52:08.177292Z"
    },
    "papermill": {
     "duration": 0.049629,
     "end_time": "2020-10-14T17:52:08.177492",
     "exception": false,
     "start_time": "2020-10-14T17:52:08.127863",
     "status": "completed"
    },
    "tags": []
   },
   "outputs": [
    {
     "name": "stdout",
     "output_type": "stream",
     "text": [
      "29471\n",
      "530\n"
     ]
    }
   ],
   "source": [
    "print(np.sum(train['stroke']==0))\n",
    "print(np.sum(train['stroke']==1))"
   ]
  },
  {
   "cell_type": "code",
   "execution_count": 9,
   "metadata": {
    "execution": {
     "iopub.execute_input": "2020-10-14T17:52:08.271665Z",
     "iopub.status.busy": "2020-10-14T17:52:08.270677Z",
     "iopub.status.idle": "2020-10-14T17:52:08.291516Z",
     "shell.execute_reply": "2020-10-14T17:52:08.290635Z"
    },
    "papermill": {
     "duration": 0.076719,
     "end_time": "2020-10-14T17:52:08.291674",
     "exception": false,
     "start_time": "2020-10-14T17:52:08.214955",
     "status": "completed"
    },
    "tags": []
   },
   "outputs": [],
   "source": [
    "#normalize\n",
    "scaler_train=StandardScaler()\n",
    "scaler_train.fit(X_train, Y_train)\n",
    "X_train_scaled=scaler_train.transform(X_train)\n",
    "X_test_scaled=scaler_train.transform(X_test)"
   ]
  },
  {
   "cell_type": "code",
   "execution_count": 10,
   "metadata": {
    "execution": {
     "iopub.execute_input": "2020-10-14T17:52:08.390368Z",
     "iopub.status.busy": "2020-10-14T17:52:08.389297Z",
     "iopub.status.idle": "2020-10-14T17:52:08.393243Z",
     "shell.execute_reply": "2020-10-14T17:52:08.392653Z"
    },
    "papermill": {
     "duration": 0.055449,
     "end_time": "2020-10-14T17:52:08.393373",
     "exception": false,
     "start_time": "2020-10-14T17:52:08.337924",
     "status": "completed"
    },
    "tags": []
   },
   "outputs": [],
   "source": [
    "def plotGridCv(param_grid, hyperparam, grid_cv):\n",
    "    x=param_grid[hyperparam]\n",
    "    y=[]\n",
    "    for i in range(len(grid_cv.cv_results_['params'])):\n",
    "        y.append(grid_cv.cv_results_['mean_test_score'][i])\n",
    "    \n",
    "    plt.ylabel('mean score')\n",
    "    plt.xlabel(hyperparam)\n",
    "    plt.plot(x, y)\n",
    "    plt.show()"
   ]
  },
  {
   "cell_type": "markdown",
   "metadata": {
    "papermill": {
     "duration": 0.038637,
     "end_time": "2020-10-14T17:52:08.473292",
     "exception": false,
     "start_time": "2020-10-14T17:52:08.434655",
     "status": "completed"
    },
    "tags": []
   },
   "source": [
    "# Logistic regression"
   ]
  },
  {
   "cell_type": "markdown",
   "metadata": {
    "papermill": {
     "duration": 0.036996,
     "end_time": "2020-10-14T17:52:08.547783",
     "exception": false,
     "start_time": "2020-10-14T17:52:08.510787",
     "status": "completed"
    },
    "tags": []
   },
   "source": [
    "## Choosing C"
   ]
  },
  {
   "cell_type": "code",
   "execution_count": 11,
   "metadata": {
    "execution": {
     "iopub.execute_input": "2020-10-14T17:52:08.630275Z",
     "iopub.status.busy": "2020-10-14T17:52:08.629515Z",
     "iopub.status.idle": "2020-10-14T17:52:10.680730Z",
     "shell.execute_reply": "2020-10-14T17:52:10.680036Z"
    },
    "papermill": {
     "duration": 2.095813,
     "end_time": "2020-10-14T17:52:10.680876",
     "exception": false,
     "start_time": "2020-10-14T17:52:08.585063",
     "status": "completed"
    },
    "tags": []
   },
   "outputs": [
    {
     "data": {
      "text/plain": [
       "LogisticRegression(C=0.01, class_weight='balanced')"
      ]
     },
     "execution_count": 11,
     "metadata": {},
     "output_type": "execute_result"
    }
   ],
   "source": [
    "cv = 5\n",
    "log_regressor = linear_model.LogisticRegression(class_weight='balanced')\n",
    "param_grid = {'C': [0.01, 0.05, 0.1, 0.5, 1, 5, 10]}\n",
    "grid_cv=GridSearchCV(log_regressor,param_grid,cv=cv,scoring='roc_auc')\n",
    "grid_cv.fit(X_train_scaled,Y_train)\n",
    "grid_cv.best_estimator_"
   ]
  },
  {
   "cell_type": "code",
   "execution_count": 12,
   "metadata": {
    "execution": {
     "iopub.execute_input": "2020-10-14T17:52:10.765100Z",
     "iopub.status.busy": "2020-10-14T17:52:10.764163Z",
     "iopub.status.idle": "2020-10-14T17:52:10.980825Z",
     "shell.execute_reply": "2020-10-14T17:52:10.981484Z"
    },
    "papermill": {
     "duration": 0.261132,
     "end_time": "2020-10-14T17:52:10.981735",
     "exception": false,
     "start_time": "2020-10-14T17:52:10.720603",
     "status": "completed"
    },
    "tags": []
   },
   "outputs": [
    {
     "data": {
      "image/png": "[encoded data removed]",
      "text/plain": [
       "<Figure size 432x288 with 1 Axes>"
      ]
     },
     "metadata": {
      "needs_background": "light"
     },
     "output_type": "display_data"
    }
   ],
   "source": [
    "plotGridCv(param_grid, 'C', grid_cv)"
   ]
  },
  {
   "cell_type": "code",
   "execution_count": 13,
   "metadata": {
    "execution": {
     "iopub.execute_input": "2020-10-14T17:52:11.070860Z",
     "iopub.status.busy": "2020-10-14T17:52:11.069877Z",
     "iopub.status.idle": "2020-10-14T17:52:11.074827Z",
     "shell.execute_reply": "2020-10-14T17:52:11.074004Z"
    },
    "papermill": {
     "duration": 0.05004,
     "end_time": "2020-10-14T17:52:11.074959",
     "exception": false,
     "start_time": "2020-10-14T17:52:11.024919",
     "status": "completed"
    },
    "tags": []
   },
   "outputs": [
    {
     "data": {
      "text/plain": [
       "0.8470406473525116"
      ]
     },
     "execution_count": 13,
     "metadata": {},
     "output_type": "execute_result"
    }
   ],
   "source": [
    "grid_cv.cv_results_['mean_test_score'].max()"
   ]
  },
  {
   "cell_type": "markdown",
   "metadata": {
    "papermill": {
     "duration": 0.039898,
     "end_time": "2020-10-14T17:52:11.155269",
     "exception": false,
     "start_time": "2020-10-14T17:52:11.115371",
     "status": "completed"
    },
    "tags": []
   },
   "source": [
    "## Choosing solver"
   ]
  },
  {
   "cell_type": "code",
   "execution_count": 14,
   "metadata": {
    "execution": {
     "iopub.execute_input": "2020-10-14T17:52:11.242163Z",
     "iopub.status.busy": "2020-10-14T17:52:11.241423Z",
     "iopub.status.idle": "2020-10-14T17:52:15.906688Z",
     "shell.execute_reply": "2020-10-14T17:52:15.906070Z"
    },
    "papermill": {
     "duration": 4.7118,
     "end_time": "2020-10-14T17:52:15.906838",
     "exception": false,
     "start_time": "2020-10-14T17:52:11.195038",
     "status": "completed"
    },
    "tags": []
   },
   "outputs": [
    {
     "name": "stderr",
     "output_type": "stream",
     "text": [
      "/opt/conda/lib/python3.7/site-packages/sklearn/linear_model/_sag.py:330: ConvergenceWarning: The max_iter was reached which means the coef_ did not converge\n",
      "  \"the coef_ did not converge\", ConvergenceWarning)\n",
      "/opt/conda/lib/python3.7/site-packages/sklearn/linear_model/_sag.py:330: ConvergenceWarning: The max_iter was reached which means the coef_ did not converge\n",
      "  \"the coef_ did not converge\", ConvergenceWarning)\n",
      "/opt/conda/lib/python3.7/site-packages/sklearn/linear_model/_sag.py:330: ConvergenceWarning: The max_iter was reached which means the coef_ did not converge\n",
      "  \"the coef_ did not converge\", ConvergenceWarning)\n",
      "/opt/conda/lib/python3.7/site-packages/sklearn/linear_model/_sag.py:330: ConvergenceWarning: The max_iter was reached which means the coef_ did not converge\n",
      "  \"the coef_ did not converge\", ConvergenceWarning)\n",
      "/opt/conda/lib/python3.7/site-packages/sklearn/linear_model/_sag.py:330: ConvergenceWarning: The max_iter was reached which means the coef_ did not converge\n",
      "  \"the coef_ did not converge\", ConvergenceWarning)\n"
     ]
    },
    {
     "data": {
      "text/plain": [
       "LogisticRegression(C=0.01, class_weight='balanced', solver='liblinear')"
      ]
     },
     "execution_count": 14,
     "metadata": {},
     "output_type": "execute_result"
    }
   ],
   "source": [
    "param_grid = {'C': [0.01],'penalty': ['l2'], 'solver': ['newton-cg', 'lbfgs', 'liblinear', 'sag', 'saga']}\n",
    "grid_cv=GridSearchCV(log_regressor,param_grid,cv=cv,scoring='roc_auc')\n",
    "grid_cv.fit(X_train_scaled,Y_train)\n",
    "grid_cv.best_estimator_"
   ]
  },
  {
   "cell_type": "code",
   "execution_count": 15,
   "metadata": {
    "execution": {
     "iopub.execute_input": "2020-10-14T17:52:16.009150Z",
     "iopub.status.busy": "2020-10-14T17:52:16.007829Z",
     "iopub.status.idle": "2020-10-14T17:52:16.144958Z",
     "shell.execute_reply": "2020-10-14T17:52:16.144298Z"
    },
    "papermill": {
     "duration": 0.195126,
     "end_time": "2020-10-14T17:52:16.145089",
     "exception": false,
     "start_time": "2020-10-14T17:52:15.949963",
     "status": "completed"
    },
    "tags": []
   },
   "outputs": [
    {
     "data": {
      "image/png": "[encoded data removed]",
      "text/plain": [
       "<Figure size 432x288 with 1 Axes>"
      ]
     },
     "metadata": {
      "needs_background": "light"
     },
     "output_type": "display_data"
    }
   ],
   "source": [
    "plotGridCv(param_grid, 'solver', grid_cv)"
   ]
  },
  {
   "cell_type": "code",
   "execution_count": 16,
   "metadata": {
    "execution": {
     "iopub.execute_input": "2020-10-14T17:52:16.240912Z",
     "iopub.status.busy": "2020-10-14T17:52:16.239716Z",
     "iopub.status.idle": "2020-10-14T17:52:16.244118Z",
     "shell.execute_reply": "2020-10-14T17:52:16.244746Z"
    },
    "papermill": {
     "duration": 0.056752,
     "end_time": "2020-10-14T17:52:16.244907",
     "exception": false,
     "start_time": "2020-10-14T17:52:16.188155",
     "status": "completed"
    },
    "tags": []
   },
   "outputs": [
    {
     "data": {
      "text/plain": [
       "0.8470921829039387"
      ]
     },
     "execution_count": 16,
     "metadata": {},
     "output_type": "execute_result"
    }
   ],
   "source": [
    "grid_cv.cv_results_['mean_test_score'].max()"
   ]
  },
  {
   "cell_type": "markdown",
   "metadata": {
    "papermill": {
     "duration": 0.044434,
     "end_time": "2020-10-14T17:52:16.333885",
     "exception": false,
     "start_time": "2020-10-14T17:52:16.289451",
     "status": "completed"
    },
    "tags": []
   },
   "source": [
    "# Decision tree"
   ]
  },
  {
   "cell_type": "markdown",
   "metadata": {
    "papermill": {
     "duration": 0.043903,
     "end_time": "2020-10-14T17:52:16.422138",
     "exception": false,
     "start_time": "2020-10-14T17:52:16.378235",
     "status": "completed"
    },
    "tags": []
   },
   "source": [
    "## Choosing max depth"
   ]
  },
  {
   "cell_type": "code",
   "execution_count": 17,
   "metadata": {
    "execution": {
     "iopub.execute_input": "2020-10-14T17:52:16.518928Z",
     "iopub.status.busy": "2020-10-14T17:52:16.517799Z",
     "iopub.status.idle": "2020-10-14T17:52:17.371136Z",
     "shell.execute_reply": "2020-10-14T17:52:17.370513Z"
    },
    "papermill": {
     "duration": 0.904728,
     "end_time": "2020-10-14T17:52:17.371252",
     "exception": false,
     "start_time": "2020-10-14T17:52:16.466524",
     "status": "completed"
    },
    "tags": []
   },
   "outputs": [
    {
     "data": {
      "text/plain": [
       "DecisionTreeClassifier(max_depth=4)"
      ]
     },
     "execution_count": 17,
     "metadata": {},
     "output_type": "execute_result"
    }
   ],
   "source": [
    "param_grid = {'max_depth':[1,2,3,4,5]}\n",
    "decision_tree = tree.DecisionTreeClassifier()\n",
    "grid_cv=GridSearchCV(decision_tree,param_grid,cv=cv,scoring='roc_auc')\n",
    "grid_cv.fit(X_train_scaled,Y_train)\n",
    "grid_cv.best_estimator_"
   ]
  },
  {
   "cell_type": "code",
   "execution_count": 18,
   "metadata": {
    "execution": {
     "iopub.execute_input": "2020-10-14T17:52:17.481620Z",
     "iopub.status.busy": "2020-10-14T17:52:17.480307Z",
     "iopub.status.idle": "2020-10-14T17:52:17.656855Z",
     "shell.execute_reply": "2020-10-14T17:52:17.655797Z"
    },
    "papermill": {
     "duration": 0.241214,
     "end_time": "2020-10-14T17:52:17.657021",
     "exception": false,
     "start_time": "2020-10-14T17:52:17.415807",
     "status": "completed"
    },
    "tags": []
   },
   "outputs": [
    {
     "data": {
      "image/png": "[encoded data removed]",
      "text/plain": [
       "<Figure size 432x288 with 1 Axes>"
      ]
     },
     "metadata": {
      "needs_background": "light"
     },
     "output_type": "display_data"
    }
   ],
   "source": [
    "plotGridCv(param_grid, 'max_depth', grid_cv)"
   ]
  },
  {
   "cell_type": "code",
   "execution_count": 19,
   "metadata": {
    "execution": {
     "iopub.execute_input": "2020-10-14T17:52:17.760647Z",
     "iopub.status.busy": "2020-10-14T17:52:17.759772Z",
     "iopub.status.idle": "2020-10-14T17:52:17.764294Z",
     "shell.execute_reply": "2020-10-14T17:52:17.763666Z"
    },
    "papermill": {
     "duration": 0.056281,
     "end_time": "2020-10-14T17:52:17.764448",
     "exception": false,
     "start_time": "2020-10-14T17:52:17.708167",
     "status": "completed"
    },
    "tags": []
   },
   "outputs": [
    {
     "data": {
      "text/plain": [
       "0.8320521978785365"
      ]
     },
     "execution_count": 19,
     "metadata": {},
     "output_type": "execute_result"
    }
   ],
   "source": [
    "grid_cv.cv_results_['mean_test_score'].max()"
   ]
  },
  {
   "cell_type": "markdown",
   "metadata": {
    "papermill": {
     "duration": 0.045665,
     "end_time": "2020-10-14T17:52:17.856454",
     "exception": false,
     "start_time": "2020-10-14T17:52:17.810789",
     "status": "completed"
    },
    "tags": []
   },
   "source": [
    "## Choosing criterion"
   ]
  },
  {
   "cell_type": "code",
   "execution_count": 20,
   "metadata": {
    "execution": {
     "iopub.execute_input": "2020-10-14T17:52:17.958782Z",
     "iopub.status.busy": "2020-10-14T17:52:17.957989Z",
     "iopub.status.idle": "2020-10-14T17:52:18.416431Z",
     "shell.execute_reply": "2020-10-14T17:52:18.415757Z"
    },
    "papermill": {
     "duration": 0.513253,
     "end_time": "2020-10-14T17:52:18.416559",
     "exception": false,
     "start_time": "2020-10-14T17:52:17.903306",
     "status": "completed"
    },
    "tags": []
   },
   "outputs": [
    {
     "data": {
      "text/plain": [
       "DecisionTreeClassifier(max_depth=4)"
      ]
     },
     "execution_count": 20,
     "metadata": {},
     "output_type": "execute_result"
    }
   ],
   "source": [
    "param_grid = {'max_depth':[4], 'criterion': ['gini', 'entropy']}\n",
    "decision_tree = tree.DecisionTreeClassifier()\n",
    "grid_cv=GridSearchCV(decision_tree,param_grid,cv=cv,scoring='roc_auc')\n",
    "grid_cv.fit(X_train_scaled,Y_train)\n",
    "grid_cv.best_estimator_"
   ]
  },
  {
   "cell_type": "code",
   "execution_count": 21,
   "metadata": {
    "execution": {
     "iopub.execute_input": "2020-10-14T17:52:18.523463Z",
     "iopub.status.busy": "2020-10-14T17:52:18.522255Z",
     "iopub.status.idle": "2020-10-14T17:52:18.744723Z",
     "shell.execute_reply": "2020-10-14T17:52:18.745296Z"
    },
    "papermill": {
     "duration": 0.280626,
     "end_time": "2020-10-14T17:52:18.745481",
     "exception": false,
     "start_time": "2020-10-14T17:52:18.464855",
     "status": "completed"
    },
    "tags": []
   },
   "outputs": [
    {
     "data": {
      "image/png": "[encoded data removed]",
      "text/plain": [
       "<Figure size 432x288 with 1 Axes>"
      ]
     },
     "metadata": {
      "needs_background": "light"
     },
     "output_type": "display_data"
    }
   ],
   "source": [
    "plotGridCv(param_grid, 'criterion', grid_cv)"
   ]
  },
  {
   "cell_type": "code",
   "execution_count": 22,
   "metadata": {
    "execution": {
     "iopub.execute_input": "2020-10-14T17:52:18.848896Z",
     "iopub.status.busy": "2020-10-14T17:52:18.847877Z",
     "iopub.status.idle": "2020-10-14T17:52:18.852698Z",
     "shell.execute_reply": "2020-10-14T17:52:18.851950Z"
    },
    "papermill": {
     "duration": 0.058946,
     "end_time": "2020-10-14T17:52:18.852818",
     "exception": false,
     "start_time": "2020-10-14T17:52:18.793872",
     "status": "completed"
    },
    "tags": []
   },
   "outputs": [
    {
     "data": {
      "text/plain": [
       "0.8320861249353643"
      ]
     },
     "execution_count": 22,
     "metadata": {},
     "output_type": "execute_result"
    }
   ],
   "source": [
    "grid_cv.cv_results_['mean_test_score'].max()"
   ]
  },
  {
   "cell_type": "markdown",
   "metadata": {
    "papermill": {
     "duration": 0.048369,
     "end_time": "2020-10-14T17:52:18.949866",
     "exception": false,
     "start_time": "2020-10-14T17:52:18.901497",
     "status": "completed"
    },
    "tags": []
   },
   "source": [
    "## Choosing min_samples_split"
   ]
  },
  {
   "cell_type": "code",
   "execution_count": 23,
   "metadata": {
    "execution": {
     "iopub.execute_input": "2020-10-14T17:52:19.057893Z",
     "iopub.status.busy": "2020-10-14T17:52:19.057079Z",
     "iopub.status.idle": "2020-10-14T17:52:20.296688Z",
     "shell.execute_reply": "2020-10-14T17:52:20.295929Z"
    },
    "papermill": {
     "duration": 1.297152,
     "end_time": "2020-10-14T17:52:20.296815",
     "exception": false,
     "start_time": "2020-10-14T17:52:18.999663",
     "status": "completed"
    },
    "tags": []
   },
   "outputs": [
    {
     "data": {
      "text/plain": [
       "DecisionTreeClassifier(max_depth=4, min_samples_split=3)"
      ]
     },
     "execution_count": 23,
     "metadata": {},
     "output_type": "execute_result"
    }
   ],
   "source": [
    "param_grid = {'max_depth':[4], 'criterion': ['gini'],'min_samples_split' : [2,3,4,5,6,7]}\n",
    "decision_tree = tree.DecisionTreeClassifier()\n",
    "grid_cv=GridSearchCV(decision_tree,param_grid,cv=cv,scoring='roc_auc')\n",
    "grid_cv.fit(X_train_scaled,Y_train)\n",
    "grid_cv.best_estimator_"
   ]
  },
  {
   "cell_type": "code",
   "execution_count": 24,
   "metadata": {
    "execution": {
     "iopub.execute_input": "2020-10-14T17:52:20.416646Z",
     "iopub.status.busy": "2020-10-14T17:52:20.415317Z",
     "iopub.status.idle": "2020-10-14T17:52:20.591952Z",
     "shell.execute_reply": "2020-10-14T17:52:20.591163Z"
    },
    "papermill": {
     "duration": 0.244866,
     "end_time": "2020-10-14T17:52:20.592080",
     "exception": false,
     "start_time": "2020-10-14T17:52:20.347214",
     "status": "completed"
    },
    "tags": []
   },
   "outputs": [
    {
     "data": {
      "image/png": "[encoded data removed]",
      "text/plain": [
       "<Figure size 432x288 with 1 Axes>"
      ]
     },
     "metadata": {
      "needs_background": "light"
     },
     "output_type": "display_data"
    }
   ],
   "source": [
    "plotGridCv(param_grid, 'min_samples_split', grid_cv)"
   ]
  },
  {
   "cell_type": "code",
   "execution_count": 25,
   "metadata": {
    "execution": {
     "iopub.execute_input": "2020-10-14T17:52:20.699448Z",
     "iopub.status.busy": "2020-10-14T17:52:20.698511Z",
     "iopub.status.idle": "2020-10-14T17:52:20.703778Z",
     "shell.execute_reply": "2020-10-14T17:52:20.703025Z"
    },
    "papermill": {
     "duration": 0.061678,
     "end_time": "2020-10-14T17:52:20.703900",
     "exception": false,
     "start_time": "2020-10-14T17:52:20.642222",
     "status": "completed"
    },
    "tags": []
   },
   "outputs": [
    {
     "data": {
      "text/plain": [
       "0.8320861249353643"
      ]
     },
     "execution_count": 25,
     "metadata": {},
     "output_type": "execute_result"
    }
   ],
   "source": [
    "grid_cv.cv_results_['mean_test_score'].max()"
   ]
  },
  {
   "cell_type": "markdown",
   "metadata": {
    "papermill": {
     "duration": 0.050052,
     "end_time": "2020-10-14T17:52:20.804561",
     "exception": false,
     "start_time": "2020-10-14T17:52:20.754509",
     "status": "completed"
    },
    "tags": []
   },
   "source": [
    "# Random forest\n"
   ]
  },
  {
   "cell_type": "markdown",
   "metadata": {
    "papermill": {
     "duration": 0.049897,
     "end_time": "2020-10-14T17:52:20.905096",
     "exception": false,
     "start_time": "2020-10-14T17:52:20.855199",
     "status": "completed"
    },
    "tags": []
   },
   "source": [
    "## Choosing n_estimators"
   ]
  },
  {
   "cell_type": "code",
   "execution_count": 26,
   "metadata": {
    "execution": {
     "iopub.execute_input": "2020-10-14T17:52:21.016004Z",
     "iopub.status.busy": "2020-10-14T17:52:21.015142Z",
     "iopub.status.idle": "2020-10-14T17:52:47.502303Z",
     "shell.execute_reply": "2020-10-14T17:52:47.501569Z"
    },
    "papermill": {
     "duration": 26.546088,
     "end_time": "2020-10-14T17:52:47.502443",
     "exception": false,
     "start_time": "2020-10-14T17:52:20.956355",
     "status": "completed"
    },
    "tags": []
   },
   "outputs": [
    {
     "data": {
      "text/plain": [
       "RandomForestClassifier(n_estimators=60)"
      ]
     },
     "execution_count": 26,
     "metadata": {},
     "output_type": "execute_result"
    }
   ],
   "source": [
    "rf_classifier = ensemble.RandomForestClassifier()\n",
    "param_grid = {'n_estimators': [20,30,40,50,60]}\n",
    "grid_cv=GridSearchCV(rf_classifier,param_grid,cv=cv,scoring='roc_auc')\n",
    "grid_cv.fit(X_train_scaled,Y_train)\n",
    "grid_cv.best_estimator_"
   ]
  },
  {
   "cell_type": "code",
   "execution_count": 27,
   "metadata": {
    "execution": {
     "iopub.execute_input": "2020-10-14T17:52:47.618850Z",
     "iopub.status.busy": "2020-10-14T17:52:47.616017Z",
     "iopub.status.idle": "2020-10-14T17:52:47.797983Z",
     "shell.execute_reply": "2020-10-14T17:52:47.797338Z"
    },
    "papermill": {
     "duration": 0.244511,
     "end_time": "2020-10-14T17:52:47.798117",
     "exception": false,
     "start_time": "2020-10-14T17:52:47.553606",
     "status": "completed"
    },
    "tags": []
   },
   "outputs": [
    {
     "data": {
      "image/png": "[encoded data removed]",
      "text/plain": [
       "<Figure size 432x288 with 1 Axes>"
      ]
     },
     "metadata": {
      "needs_background": "light"
     },
     "output_type": "display_data"
    }
   ],
   "source": [
    "plotGridCv(param_grid, 'n_estimators', grid_cv)"
   ]
  },
  {
   "cell_type": "code",
   "execution_count": 28,
   "metadata": {
    "execution": {
     "iopub.execute_input": "2020-10-14T17:52:47.910922Z",
     "iopub.status.busy": "2020-10-14T17:52:47.909837Z",
     "iopub.status.idle": "2020-10-14T17:52:47.915008Z",
     "shell.execute_reply": "2020-10-14T17:52:47.914397Z"
    },
    "papermill": {
     "duration": 0.064115,
     "end_time": "2020-10-14T17:52:47.915140",
     "exception": false,
     "start_time": "2020-10-14T17:52:47.851025",
     "status": "completed"
    },
    "tags": []
   },
   "outputs": [
    {
     "data": {
      "text/plain": [
       "0.7284499439473503"
      ]
     },
     "execution_count": 28,
     "metadata": {},
     "output_type": "execute_result"
    }
   ],
   "source": [
    "grid_cv.cv_results_['mean_test_score'].max()"
   ]
  },
  {
   "cell_type": "markdown",
   "metadata": {
    "papermill": {
     "duration": 0.054092,
     "end_time": "2020-10-14T17:52:48.022966",
     "exception": false,
     "start_time": "2020-10-14T17:52:47.968874",
     "status": "completed"
    },
    "tags": []
   },
   "source": [
    "## Choosing max_depth"
   ]
  },
  {
   "cell_type": "code",
   "execution_count": 29,
   "metadata": {
    "execution": {
     "iopub.execute_input": "2020-10-14T17:52:48.137434Z",
     "iopub.status.busy": "2020-10-14T17:52:48.136640Z",
     "iopub.status.idle": "2020-10-14T17:53:08.237107Z",
     "shell.execute_reply": "2020-10-14T17:53:08.236333Z"
    },
    "papermill": {
     "duration": 20.160687,
     "end_time": "2020-10-14T17:53:08.237232",
     "exception": false,
     "start_time": "2020-10-14T17:52:48.076545",
     "status": "completed"
    },
    "tags": []
   },
   "outputs": [
    {
     "data": {
      "text/plain": [
       "RandomForestClassifier(max_depth=6, n_estimators=60)"
      ]
     },
     "execution_count": 29,
     "metadata": {},
     "output_type": "execute_result"
    }
   ],
   "source": [
    "rf_classifier = ensemble.RandomForestClassifier()\n",
    "param_grid = {'n_estimators': [60], 'max_depth': [2,3,4,5,6]}\n",
    "grid_cv=GridSearchCV(rf_classifier,param_grid,cv=cv,scoring='roc_auc')\n",
    "grid_cv.fit(X_train_scaled,Y_train)\n",
    "grid_cv.best_estimator_ "
   ]
  },
  {
   "cell_type": "code",
   "execution_count": 30,
   "metadata": {
    "execution": {
     "iopub.execute_input": "2020-10-14T17:53:08.356891Z",
     "iopub.status.busy": "2020-10-14T17:53:08.356033Z",
     "iopub.status.idle": "2020-10-14T17:53:08.555987Z",
     "shell.execute_reply": "2020-10-14T17:53:08.555168Z"
    },
    "papermill": {
     "duration": 0.26463,
     "end_time": "2020-10-14T17:53:08.556118",
     "exception": false,
     "start_time": "2020-10-14T17:53:08.291488",
     "status": "completed"
    },
    "tags": []
   },
   "outputs": [
    {
     "data": {
      "image/png": "[encoded data removed]",
      "text/plain": [
       "<Figure size 432x288 with 1 Axes>"
      ]
     },
     "metadata": {
      "needs_background": "light"
     },
     "output_type": "display_data"
    }
   ],
   "source": [
    "plotGridCv(param_grid, 'max_depth', grid_cv)"
   ]
  },
  {
   "cell_type": "code",
   "execution_count": 31,
   "metadata": {
    "execution": {
     "iopub.execute_input": "2020-10-14T17:53:08.674668Z",
     "iopub.status.busy": "2020-10-14T17:53:08.673525Z",
     "iopub.status.idle": "2020-10-14T17:53:08.678143Z",
     "shell.execute_reply": "2020-10-14T17:53:08.677375Z"
    },
    "papermill": {
     "duration": 0.066088,
     "end_time": "2020-10-14T17:53:08.678293",
     "exception": false,
     "start_time": "2020-10-14T17:53:08.612205",
     "status": "completed"
    },
    "tags": []
   },
   "outputs": [
    {
     "data": {
      "text/plain": [
       "0.8473316921857309"
      ]
     },
     "execution_count": 31,
     "metadata": {},
     "output_type": "execute_result"
    }
   ],
   "source": [
    "grid_cv.cv_results_['mean_test_score'].max()"
   ]
  },
  {
   "cell_type": "markdown",
   "metadata": {
    "papermill": {
     "duration": 0.059366,
     "end_time": "2020-10-14T17:53:08.793378",
     "exception": false,
     "start_time": "2020-10-14T17:53:08.734012",
     "status": "completed"
    },
    "tags": []
   },
   "source": [
    "## Choosing min_samples_split"
   ]
  },
  {
   "cell_type": "code",
   "execution_count": 32,
   "metadata": {
    "execution": {
     "iopub.execute_input": "2020-10-14T17:53:08.913784Z",
     "iopub.status.busy": "2020-10-14T17:53:08.912606Z",
     "iopub.status.idle": "2020-10-14T17:53:32.896722Z",
     "shell.execute_reply": "2020-10-14T17:53:32.897375Z"
    },
    "papermill": {
     "duration": 24.048813,
     "end_time": "2020-10-14T17:53:32.897553",
     "exception": false,
     "start_time": "2020-10-14T17:53:08.848740",
     "status": "completed"
    },
    "tags": []
   },
   "outputs": [
    {
     "data": {
      "text/plain": [
       "RandomForestClassifier(max_depth=4, n_estimators=60)"
      ]
     },
     "execution_count": 32,
     "metadata": {},
     "output_type": "execute_result"
    }
   ],
   "source": [
    "rf_classifier = ensemble.RandomForestClassifier()\n",
    "param_grid = {'n_estimators': [60], 'max_depth': [4], 'min_samples_split':[2,3,4,5,6,7]}\n",
    "grid_cv=GridSearchCV(rf_classifier,param_grid,cv=cv,scoring='roc_auc')\n",
    "grid_cv.fit(X_train_scaled,Y_train)\n",
    "grid_cv.best_estimator_ "
   ]
  },
  {
   "cell_type": "code",
   "execution_count": 33,
   "metadata": {
    "execution": {
     "iopub.execute_input": "2020-10-14T17:53:33.029002Z",
     "iopub.status.busy": "2020-10-14T17:53:33.024841Z",
     "iopub.status.idle": "2020-10-14T17:53:33.212867Z",
     "shell.execute_reply": "2020-10-14T17:53:33.212208Z"
    },
    "papermill": {
     "duration": 0.257272,
     "end_time": "2020-10-14T17:53:33.212993",
     "exception": false,
     "start_time": "2020-10-14T17:53:32.955721",
     "status": "completed"
    },
    "tags": []
   },
   "outputs": [
    {
     "data": {
      "image/png": "[encoded data removed]",
      "text/plain": [
       "<Figure size 432x288 with 1 Axes>"
      ]
     },
     "metadata": {
      "needs_background": "light"
     },
     "output_type": "display_data"
    }
   ],
   "source": [
    "plotGridCv(param_grid, 'min_samples_split', grid_cv)"
   ]
  },
  {
   "cell_type": "code",
   "execution_count": 34,
   "metadata": {
    "execution": {
     "iopub.execute_input": "2020-10-14T17:53:33.334914Z",
     "iopub.status.busy": "2020-10-14T17:53:33.333862Z",
     "iopub.status.idle": "2020-10-14T17:53:33.339574Z",
     "shell.execute_reply": "2020-10-14T17:53:33.338544Z"
    },
    "papermill": {
     "duration": 0.069502,
     "end_time": "2020-10-14T17:53:33.339731",
     "exception": false,
     "start_time": "2020-10-14T17:53:33.270229",
     "status": "completed"
    },
    "tags": []
   },
   "outputs": [
    {
     "data": {
      "text/plain": [
       "0.84530634574231"
      ]
     },
     "execution_count": 34,
     "metadata": {},
     "output_type": "execute_result"
    }
   ],
   "source": [
    "grid_cv.cv_results_['mean_test_score'].max()"
   ]
  },
  {
   "cell_type": "markdown",
   "metadata": {
    "papermill": {
     "duration": 0.058096,
     "end_time": "2020-10-14T17:53:33.456861",
     "exception": false,
     "start_time": "2020-10-14T17:53:33.398765",
     "status": "completed"
    },
    "tags": []
   },
   "source": [
    "# Submitting results\n",
    "\n",
    "Random forest model with n_estimators=60, max_depth=4, min_samples_split=4 returned the best score = 0.8474851306567525"
   ]
  },
  {
   "cell_type": "code",
   "execution_count": 35,
   "metadata": {
    "execution": {
     "iopub.execute_input": "2020-10-14T17:53:33.579122Z",
     "iopub.status.busy": "2020-10-14T17:53:33.577907Z",
     "iopub.status.idle": "2020-10-14T17:53:33.635866Z",
     "shell.execute_reply": "2020-10-14T17:53:33.635154Z"
    },
    "papermill": {
     "duration": 0.121329,
     "end_time": "2020-10-14T17:53:33.635993",
     "exception": false,
     "start_time": "2020-10-14T17:53:33.514664",
     "status": "completed"
    },
    "tags": []
   },
   "outputs": [],
   "source": [
    "Y_test = grid_cv.predict_proba(X_test_scaled)[:,1]"
   ]
  },
  {
   "cell_type": "code",
   "execution_count": 36,
   "metadata": {
    "execution": {
     "iopub.execute_input": "2020-10-14T17:53:33.758857Z",
     "iopub.status.busy": "2020-10-14T17:53:33.757752Z",
     "iopub.status.idle": "2020-10-14T17:53:34.135877Z",
     "shell.execute_reply": "2020-10-14T17:53:34.135072Z"
    },
    "papermill": {
     "duration": 0.442141,
     "end_time": "2020-10-14T17:53:34.136002",
     "exception": false,
     "start_time": "2020-10-14T17:53:33.693861",
     "status": "completed"
    },
    "tags": []
   },
   "outputs": [],
   "source": [
    "sample['stroke']= Y_test\n",
    "sample.to_csv('submission.csv', index =None)"
   ]
  },
  {
   "cell_type": "markdown",
   "metadata": {},
   "source": [
    "Private Score:\n",
    "0.85438\n",
    "Public Score:\n",
    "0.86180"
   ]
  }
 ],
 "metadata": {
  "kernelspec": {
   "display_name": "Python 3",
   "language": "python",
   "name": "python3"
  },
  "language_info": {
   "codemirror_mode": {
    "name": "ipython",
    "version": 3
   },
   "file_extension": ".py",
   "mimetype": "text/x-python",
   "name": "python",
   "nbconvert_exporter": "python",
   "pygments_lexer": "ipython3",
   "version": "3.7.6"
  },
  "papermill": {
   "duration": 94.14751,
   "end_time": "2020-10-14T17:53:34.302491",
   "environment_variables": {},
   "exception": null,
   "input_path": "__notebook__.ipynb",
   "output_path": "__notebook__.ipynb",
   "parameters": {},
   "start_time": "2020-10-14T17:52:00.154981",
   "version": "2.1.0"
  }
 },
 "nbformat": 4,
 "nbformat_minor": 4
}
